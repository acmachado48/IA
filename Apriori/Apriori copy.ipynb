{
  "cells": [
    {
      "cell_type": "markdown",
      "metadata": {
        "id": "qm5lmIq9Xe-a"
      },
      "source": [
        "**Regras de associação**\n",
        "\n",
        "**Algoritmo Apriori**\n",
        "\n",
        "**Veja: https://www.youtube.com/watch?v=0v6PiOpsJi8**"
      ]
    },
    {
      "cell_type": "code",
      "execution_count": 3,
      "metadata": {
        "colab": {
          "base_uri": "https://localhost:8080/"
        },
        "id": "2bZM-_AsBVca",
        "outputId": "eb562175-4c00-425a-8bcc-91b37581f866"
      },
      "outputs": [
        {
          "name": "stdout",
          "output_type": "stream",
          "text": [
            "Requirement already satisfied: apyori in /Users/anacarolinamachado/iA/meu_ambiente/lib/python3.13/site-packages (1.1.2)\n",
            "Collecting mlxtend\n",
            "  Downloading mlxtend-0.23.4-py3-none-any.whl.metadata (7.3 kB)\n",
            "Requirement already satisfied: scipy>=1.2.1 in /Users/anacarolinamachado/iA/meu_ambiente/lib/python3.13/site-packages (from mlxtend) (1.15.2)\n",
            "Requirement already satisfied: numpy>=1.16.2 in /Users/anacarolinamachado/iA/meu_ambiente/lib/python3.13/site-packages (from mlxtend) (2.2.3)\n",
            "Requirement already satisfied: pandas>=0.24.2 in /Users/anacarolinamachado/iA/meu_ambiente/lib/python3.13/site-packages (from mlxtend) (2.2.3)\n",
            "Requirement already satisfied: scikit-learn>=1.3.1 in /Users/anacarolinamachado/iA/meu_ambiente/lib/python3.13/site-packages (from mlxtend) (1.6.1)\n",
            "Requirement already satisfied: matplotlib>=3.0.0 in /Users/anacarolinamachado/iA/meu_ambiente/lib/python3.13/site-packages (from mlxtend) (3.10.0)\n",
            "Requirement already satisfied: joblib>=0.13.2 in /Users/anacarolinamachado/iA/meu_ambiente/lib/python3.13/site-packages (from mlxtend) (1.4.2)\n",
            "Requirement already satisfied: contourpy>=1.0.1 in /Users/anacarolinamachado/iA/meu_ambiente/lib/python3.13/site-packages (from matplotlib>=3.0.0->mlxtend) (1.3.1)\n",
            "Requirement already satisfied: cycler>=0.10 in /Users/anacarolinamachado/iA/meu_ambiente/lib/python3.13/site-packages (from matplotlib>=3.0.0->mlxtend) (0.12.1)\n",
            "Requirement already satisfied: fonttools>=4.22.0 in /Users/anacarolinamachado/iA/meu_ambiente/lib/python3.13/site-packages (from matplotlib>=3.0.0->mlxtend) (4.56.0)\n",
            "Requirement already satisfied: kiwisolver>=1.3.1 in /Users/anacarolinamachado/iA/meu_ambiente/lib/python3.13/site-packages (from matplotlib>=3.0.0->mlxtend) (1.4.8)\n",
            "Requirement already satisfied: packaging>=20.0 in /Users/anacarolinamachado/iA/meu_ambiente/lib/python3.13/site-packages (from matplotlib>=3.0.0->mlxtend) (24.2)\n",
            "Requirement already satisfied: pillow>=8 in /Users/anacarolinamachado/iA/meu_ambiente/lib/python3.13/site-packages (from matplotlib>=3.0.0->mlxtend) (11.1.0)\n",
            "Requirement already satisfied: pyparsing>=2.3.1 in /Users/anacarolinamachado/iA/meu_ambiente/lib/python3.13/site-packages (from matplotlib>=3.0.0->mlxtend) (3.2.1)\n",
            "Requirement already satisfied: python-dateutil>=2.7 in /Users/anacarolinamachado/iA/meu_ambiente/lib/python3.13/site-packages (from matplotlib>=3.0.0->mlxtend) (2.9.0.post0)\n",
            "Requirement already satisfied: pytz>=2020.1 in /Users/anacarolinamachado/iA/meu_ambiente/lib/python3.13/site-packages (from pandas>=0.24.2->mlxtend) (2025.1)\n",
            "Requirement already satisfied: tzdata>=2022.7 in /Users/anacarolinamachado/iA/meu_ambiente/lib/python3.13/site-packages (from pandas>=0.24.2->mlxtend) (2025.1)\n",
            "Requirement already satisfied: threadpoolctl>=3.1.0 in /Users/anacarolinamachado/iA/meu_ambiente/lib/python3.13/site-packages (from scikit-learn>=1.3.1->mlxtend) (3.5.0)\n",
            "Requirement already satisfied: six>=1.5 in /Users/anacarolinamachado/iA/meu_ambiente/lib/python3.13/site-packages (from python-dateutil>=2.7->matplotlib>=3.0.0->mlxtend) (1.17.0)\n",
            "Downloading mlxtend-0.23.4-py3-none-any.whl (1.4 MB)\n",
            "\u001b[2K   \u001b[90m━━━━━━━━━━━━━━━━━━━━━━━━━━━━━━━━━━━━━━━━\u001b[0m \u001b[32m1.4/1.4 MB\u001b[0m \u001b[31m8.1 MB/s\u001b[0m eta \u001b[36m0:00:00\u001b[0mta \u001b[36m0:00:01\u001b[0m\n",
            "\u001b[?25hInstalling collected packages: mlxtend\n",
            "Successfully installed mlxtend-0.23.4\n"
          ]
        }
      ],
      "source": [
        "!pip install apyori\n",
        "!pip install mlxtend\n"
      ]
    },
    {
      "cell_type": "code",
      "execution_count": 4,
      "metadata": {
        "id": "m3d_ivF4Bcn5"
      },
      "outputs": [],
      "source": [
        "import pandas as pd\n",
        "from apyori import apriori\n",
        "from mlxtend.frequent_patterns import apriori, association_rules\n",
        "from mlxtend.preprocessing import TransactionEncoder"
      ]
    },
    {
      "cell_type": "code",
      "execution_count": 9,
      "metadata": {
        "colab": {
          "base_uri": "https://localhost:8080/",
          "height": 268
        },
        "id": "fGx34zCzBkw1",
        "outputId": "374599c5-d21a-4db9-d0f3-b459a86a910a"
      },
      "outputs": [
        {
          "data": {
            "text/html": [
              "<div>\n",
              "<style scoped>\n",
              "    .dataframe tbody tr th:only-of-type {\n",
              "        vertical-align: middle;\n",
              "    }\n",
              "\n",
              "    .dataframe tbody tr th {\n",
              "        vertical-align: top;\n",
              "    }\n",
              "\n",
              "    .dataframe thead th {\n",
              "        text-align: right;\n",
              "    }\n",
              "</style>\n",
              "<table border=\"1\" class=\"dataframe\">\n",
              "  <thead>\n",
              "    <tr style=\"text-align: right;\">\n",
              "      <th></th>\n",
              "      <th>0</th>\n",
              "      <th>1</th>\n",
              "      <th>2</th>\n",
              "      <th>3</th>\n",
              "      <th>4</th>\n",
              "      <th>5</th>\n",
              "      <th>6</th>\n",
              "    </tr>\n",
              "  </thead>\n",
              "  <tbody>\n",
              "    <tr>\n",
              "      <th>0</th>\n",
              "      <td>NaN</td>\n",
              "      <td>Cafe</td>\n",
              "      <td>NaN</td>\n",
              "      <td>Pao</td>\n",
              "      <td>Manteiga</td>\n",
              "      <td>NaN</td>\n",
              "      <td>NaN</td>\n",
              "    </tr>\n",
              "    <tr>\n",
              "      <th>1</th>\n",
              "      <td>Leite</td>\n",
              "      <td>NaN</td>\n",
              "      <td>Cerveja</td>\n",
              "      <td>Pao</td>\n",
              "      <td>Manteiga</td>\n",
              "      <td>NaN</td>\n",
              "      <td>NaN</td>\n",
              "    </tr>\n",
              "    <tr>\n",
              "      <th>2</th>\n",
              "      <td>NaN</td>\n",
              "      <td>Cafe</td>\n",
              "      <td>NaN</td>\n",
              "      <td>Pao</td>\n",
              "      <td>Manteiga</td>\n",
              "      <td>NaN</td>\n",
              "      <td>NaN</td>\n",
              "    </tr>\n",
              "    <tr>\n",
              "      <th>3</th>\n",
              "      <td>Leite</td>\n",
              "      <td>Cafe</td>\n",
              "      <td>NaN</td>\n",
              "      <td>Pao</td>\n",
              "      <td>Manteiga</td>\n",
              "      <td>NaN</td>\n",
              "      <td>NaN</td>\n",
              "    </tr>\n",
              "    <tr>\n",
              "      <th>4</th>\n",
              "      <td>NaN</td>\n",
              "      <td>NaN</td>\n",
              "      <td>Cerveja</td>\n",
              "      <td>NaN</td>\n",
              "      <td>NaN</td>\n",
              "      <td>NaN</td>\n",
              "      <td>NaN</td>\n",
              "    </tr>\n",
              "    <tr>\n",
              "      <th>5</th>\n",
              "      <td>NaN</td>\n",
              "      <td>NaN</td>\n",
              "      <td>NaN</td>\n",
              "      <td>NaN</td>\n",
              "      <td>Manteiga</td>\n",
              "      <td>NaN</td>\n",
              "      <td>NaN</td>\n",
              "    </tr>\n",
              "    <tr>\n",
              "      <th>6</th>\n",
              "      <td>NaN</td>\n",
              "      <td>NaN</td>\n",
              "      <td>NaN</td>\n",
              "      <td>Pao</td>\n",
              "      <td>NaN</td>\n",
              "      <td>NaN</td>\n",
              "      <td>NaN</td>\n",
              "    </tr>\n",
              "    <tr>\n",
              "      <th>7</th>\n",
              "      <td>NaN</td>\n",
              "      <td>NaN</td>\n",
              "      <td>NaN</td>\n",
              "      <td>NaN</td>\n",
              "      <td>NaN</td>\n",
              "      <td>NaN</td>\n",
              "      <td>Feijao</td>\n",
              "    </tr>\n",
              "    <tr>\n",
              "      <th>8</th>\n",
              "      <td>NaN</td>\n",
              "      <td>NaN</td>\n",
              "      <td>NaN</td>\n",
              "      <td>NaN</td>\n",
              "      <td>NaN</td>\n",
              "      <td>Arroz</td>\n",
              "      <td>Feijao</td>\n",
              "    </tr>\n",
              "    <tr>\n",
              "      <th>9</th>\n",
              "      <td>NaN</td>\n",
              "      <td>NaN</td>\n",
              "      <td>NaN</td>\n",
              "      <td>NaN</td>\n",
              "      <td>NaN</td>\n",
              "      <td>Arroz</td>\n",
              "      <td>NaN</td>\n",
              "    </tr>\n",
              "  </tbody>\n",
              "</table>\n",
              "</div>"
            ],
            "text/plain": [
              "       0     1        2    3         4      5       6\n",
              "0    NaN  Cafe      NaN  Pao  Manteiga    NaN     NaN\n",
              "1  Leite   NaN  Cerveja  Pao  Manteiga    NaN     NaN\n",
              "2    NaN  Cafe      NaN  Pao  Manteiga    NaN     NaN\n",
              "3  Leite  Cafe      NaN  Pao  Manteiga    NaN     NaN\n",
              "4    NaN   NaN  Cerveja  NaN       NaN    NaN     NaN\n",
              "5    NaN   NaN      NaN  NaN  Manteiga    NaN     NaN\n",
              "6    NaN   NaN      NaN  Pao       NaN    NaN     NaN\n",
              "7    NaN   NaN      NaN  NaN       NaN    NaN  Feijao\n",
              "8    NaN   NaN      NaN  NaN       NaN  Arroz  Feijao\n",
              "9    NaN   NaN      NaN  NaN       NaN  Arroz     NaN"
            ]
          },
          "execution_count": 9,
          "metadata": {},
          "output_type": "execute_result"
        }
      ],
      "source": [
        "#encoding = \"cp1252\", encoding='utf-8', encoding='latin1'etc\n",
        "base= pd.read_csv('MercadoSim.csv', sep=';',encoding='cp1252', header=None)\n",
        "base"
      ]
    },
    {
      "cell_type": "code",
      "execution_count": 6,
      "metadata": {
        "colab": {
          "base_uri": "https://localhost:8080/"
        },
        "id": "oIBsczbGCxWf",
        "outputId": "ff04c1bb-934a-452d-9c98-3eaa99c09af7"
      },
      "outputs": [
        {
          "data": {
            "text/plain": [
              "(10, 7)"
            ]
          },
          "execution_count": 6,
          "metadata": {},
          "output_type": "execute_result"
        }
      ],
      "source": [
        "base.shape"
      ]
    },
    {
      "cell_type": "markdown",
      "metadata": {
        "id": "cQyNolxV37tx"
      },
      "source": [
        "**Como estaremos treinando um modelo a priori, que recebe entradas em formato de lista, precisamos transformar o dataframe em uma lista de transações.**"
      ]
    },
    {
      "cell_type": "code",
      "execution_count": 10,
      "metadata": {
        "id": "ZF8i0EdWCMjY"
      },
      "outputs": [],
      "source": [
        "transactions = []\n",
        "for i in range(len(base)):\n",
        "    transaction = [str(item) for item in base.iloc[i] if pd.notnull(item)]\n",
        "    transactions.append(transaction)\n",
        "\n",
        "# Obter todos os itens possíveis\n",
        "all_items = sorted({item for transaction in transactions for item in transaction})\n",
        "\n",
        "# Criar transações estendidas com itens e suas negações\n",
        "extended_transactions = []\n",
        "for transaction in transactions:\n",
        "    new_transaction = []\n",
        "    for item in all_items:\n",
        "        if item in transaction:\n",
        "            new_transaction.append(item)\n",
        "        else:\n",
        "            new_transaction.append(f'~{item}')\n",
        "    extended_transactions.append(new_transaction)\n"
      ]
    },
    {
      "cell_type": "code",
      "execution_count": null,
      "metadata": {
        "colab": {
          "base_uri": "https://localhost:8080/"
        },
        "id": "XH2CNc6VC3e3",
        "outputId": "eac451b7-7c6b-4cdc-9926-caf1468ad8fe"
      },
      "outputs": [],
      "source": []
    },
    {
      "cell_type": "code",
      "execution_count": 11,
      "metadata": {
        "colab": {
          "base_uri": "https://localhost:8080/"
        },
        "id": "jF4Ec_ryDNfw",
        "outputId": "c23f148b-86d9-4115-f247-0c23d218ef31"
      },
      "outputs": [],
      "source": [
        "# Transformar as transações estendidas em DataFrame binário\n",
        "te = TransactionEncoder()\n",
        "te_ary = te.fit(extended_transactions).transform(extended_transactions)\n",
        "df = pd.DataFrame(te_ary, columns=te.columns_)\n",
        "\n",
        "# Executar Apriori normalmente\n",
        "frequent_itemsets = apriori(df, min_support=0.1, use_colnames=True)\n",
        "\n",
        "# Gerar regras de associação\n",
        "rules = association_rules(frequent_itemsets, metric=\"confidence\", min_threshold=0.5)\n",
        "\n",
        "# Ordenar por confiança decrescente\n",
        "rules = rules.sort_values(by=\"confidence\", ascending=False)\n"
      ]
    },
    {
      "cell_type": "markdown",
      "metadata": {
        "id": "ggzA0uJg_3Ns"
      },
      "source": [
        "**Vamos chamar executar o algoritmo apriori e armazenar as regras obtidas**"
      ]
    },
    {
      "cell_type": "code",
      "execution_count": 12,
      "metadata": {
        "colab": {
          "base_uri": "https://localhost:8080/"
        },
        "id": "DuX5YuabzqfQ",
        "outputId": "a1b2c83c-b59a-4d8a-f571-497332f55288"
      },
      "outputs": [
        {
          "name": "stdout",
          "output_type": "stream",
          "text": [
            "Se NÃO leva [Feijao, Arroz, Leite], então leva [~Cerveja, ~Cafe]\n",
            " → suporte: 0.10, confiança: 1.00\n",
            "--------------------------------------------------\n",
            "Se NÃO leva [Pao, Manteiga, Cerveja, Feijao], então leva [~Arroz]\n",
            " → suporte: 0.30, confiança: 1.00\n",
            "--------------------------------------------------\n",
            "Se NÃO leva [Pao, Manteiga, Leite], então leva [~Arroz, ~Feijao]\n",
            " → suporte: 0.20, confiança: 1.00\n",
            "--------------------------------------------------\n",
            "Se NÃO leva [Pao, Manteiga, Arroz, Leite], então leva [~Feijao]\n",
            " → suporte: 0.20, confiança: 1.00\n",
            "--------------------------------------------------\n",
            "Se NÃO leva [Pao, Manteiga, Leite, Feijao], então leva [~Arroz]\n",
            " → suporte: 0.20, confiança: 1.00\n",
            "--------------------------------------------------\n",
            "Se NÃO leva [Pao, Manteiga, Leite], então leva [~Cerveja, ~Arroz]\n",
            " → suporte: 0.20, confiança: 1.00\n",
            "--------------------------------------------------\n",
            "Se NÃO leva [Pao, Manteiga, Cerveja, Leite], então leva [~Arroz]\n",
            " → suporte: 0.20, confiança: 1.00\n",
            "--------------------------------------------------\n",
            "Se NÃO leva [Pao, Manteiga, Arroz, Leite], então leva [~Cerveja]\n",
            " → suporte: 0.20, confiança: 1.00\n",
            "--------------------------------------------------\n",
            "Se NÃO leva [Pao, Manteiga, Cerveja], então leva [~Arroz, ~Feijao]\n",
            " → suporte: 0.30, confiança: 1.00\n",
            "--------------------------------------------------\n",
            "Se NÃO leva [Pao, Manteiga, Cerveja, Arroz], então leva [~Feijao]\n",
            " → suporte: 0.30, confiança: 1.00\n",
            "--------------------------------------------------\n"
          ]
        }
      ],
      "source": [
        "# Regras onde o antecedente inclui algum ~item\n",
        "rules_with_absence = rules[rules['antecedents'].apply(lambda x: any('~' in item for item in x))]\n",
        "\n",
        "# Visualizar algumas\n",
        "for _, row in rules_with_absence.head(10).iterrows():\n",
        "    lhs = ', '.join(row['antecedents'])\n",
        "    rhs = ', '.join(row['consequents'])\n",
        "    print(f\"Se NÃO leva [{lhs.replace('~', '')}], então leva [{rhs}]\")\n",
        "    print(f\" → suporte: {row['support']:.2f}, confiança: {row['confidence']:.2f}\")\n",
        "    print(\"-\" * 50)\n"
      ]
    },
    {
      "cell_type": "code",
      "execution_count": 18,
      "metadata": {},
      "outputs": [
        {
          "data": {
            "text/markdown": [
              "**Se leva Feijao, NÃO leva Arroz, NÃO leva Leite, então NÃO leva Cerveja, NÃO leva Cafe**  \n",
              "• Suporte: `0.10` — presente em 10.0% das transações.  \n",
              "• Confiança: `1.00` — quando leva feijao, não leva arroz, não leva leite, isso ocorre em 100.0% dos casos.  \n"
            ],
            "text/plain": [
              "<IPython.core.display.Markdown object>"
            ]
          },
          "metadata": {},
          "output_type": "display_data"
        },
        {
          "name": "stdout",
          "output_type": "stream",
          "text": [
            "------------------------------------------------------------\n"
          ]
        },
        {
          "data": {
            "text/markdown": [
              "**Se NÃO leva Cerveja, leva Feijao, NÃO leva Leite, NÃO leva Manteiga, então NÃO leva Pao, NÃO leva Cafe**  \n",
              "• Suporte: `0.20` — presente em 20.0% das transações.  \n",
              "• Confiança: `1.00` — quando não leva cerveja, leva feijao, não leva leite, não leva manteiga, isso ocorre em 100.0% dos casos.  \n"
            ],
            "text/plain": [
              "<IPython.core.display.Markdown object>"
            ]
          },
          "metadata": {},
          "output_type": "display_data"
        },
        {
          "name": "stdout",
          "output_type": "stream",
          "text": [
            "------------------------------------------------------------\n"
          ]
        },
        {
          "data": {
            "text/markdown": [
              "**Se NÃO leva Feijao, leva Cerveja, NÃO leva Leite, NÃO leva Pao, NÃO leva Manteiga, então NÃO leva Cafe**  \n",
              "• Suporte: `0.10` — presente em 10.0% das transações.  \n",
              "• Confiança: `1.00` — quando não leva feijao, leva cerveja, não leva leite, não leva pao, não leva manteiga, isso ocorre em 100.0% dos casos.  \n"
            ],
            "text/plain": [
              "<IPython.core.display.Markdown object>"
            ]
          },
          "metadata": {},
          "output_type": "display_data"
        },
        {
          "name": "stdout",
          "output_type": "stream",
          "text": [
            "------------------------------------------------------------\n"
          ]
        },
        {
          "data": {
            "text/markdown": [
              "**Se NÃO leva Cafe, NÃO leva Feijao, leva Cerveja, NÃO leva Pao, NÃO leva Manteiga, então NÃO leva Leite**  \n",
              "• Suporte: `0.10` — presente em 10.0% das transações.  \n",
              "• Confiança: `1.00` — quando não leva cafe, não leva feijao, leva cerveja, não leva pao, não leva manteiga, isso ocorre em 100.0% dos casos.  \n"
            ],
            "text/plain": [
              "<IPython.core.display.Markdown object>"
            ]
          },
          "metadata": {},
          "output_type": "display_data"
        },
        {
          "name": "stdout",
          "output_type": "stream",
          "text": [
            "------------------------------------------------------------\n"
          ]
        },
        {
          "data": {
            "text/markdown": [
              "**Se NÃO leva Cafe, NÃO leva Feijao, leva Cerveja, NÃO leva Leite, NÃO leva Manteiga, então NÃO leva Pao**  \n",
              "• Suporte: `0.10` — presente em 10.0% das transações.  \n",
              "• Confiança: `1.00` — quando não leva cafe, não leva feijao, leva cerveja, não leva leite, não leva manteiga, isso ocorre em 100.0% dos casos.  \n"
            ],
            "text/plain": [
              "<IPython.core.display.Markdown object>"
            ]
          },
          "metadata": {},
          "output_type": "display_data"
        },
        {
          "name": "stdout",
          "output_type": "stream",
          "text": [
            "------------------------------------------------------------\n"
          ]
        },
        {
          "data": {
            "text/markdown": [
              "**Se leva Feijao, NÃO leva Cafe, NÃO leva Arroz, NÃO leva Cerveja, NÃO leva Manteiga, então NÃO leva Pao**  \n",
              "• Suporte: `0.10` — presente em 10.0% das transações.  \n",
              "• Confiança: `1.00` — quando leva feijao, não leva cafe, não leva arroz, não leva cerveja, não leva manteiga, isso ocorre em 100.0% dos casos.  \n"
            ],
            "text/plain": [
              "<IPython.core.display.Markdown object>"
            ]
          },
          "metadata": {},
          "output_type": "display_data"
        },
        {
          "name": "stdout",
          "output_type": "stream",
          "text": [
            "------------------------------------------------------------\n"
          ]
        },
        {
          "data": {
            "text/markdown": [
              "**Se NÃO leva Cerveja, NÃO leva Pao, leva Feijao, NÃO leva Arroz, então NÃO leva Manteiga, NÃO leva Cafe**  \n",
              "• Suporte: `0.10` — presente em 10.0% das transações.  \n",
              "• Confiança: `1.00` — quando não leva cerveja, não leva pao, leva feijao, não leva arroz, isso ocorre em 100.0% dos casos.  \n"
            ],
            "text/plain": [
              "<IPython.core.display.Markdown object>"
            ]
          },
          "metadata": {},
          "output_type": "display_data"
        },
        {
          "name": "stdout",
          "output_type": "stream",
          "text": [
            "------------------------------------------------------------\n"
          ]
        },
        {
          "data": {
            "text/markdown": [
              "**Se NÃO leva Pao, leva Cerveja, NÃO leva Arroz, NÃO leva Feijao, então NÃO leva Leite, NÃO leva Manteiga**  \n",
              "• Suporte: `0.10` — presente em 10.0% das transações.  \n",
              "• Confiança: `1.00` — quando não leva pao, leva cerveja, não leva arroz, não leva feijao, isso ocorre em 100.0% dos casos.  \n"
            ],
            "text/plain": [
              "<IPython.core.display.Markdown object>"
            ]
          },
          "metadata": {},
          "output_type": "display_data"
        },
        {
          "name": "stdout",
          "output_type": "stream",
          "text": [
            "------------------------------------------------------------\n"
          ]
        },
        {
          "data": {
            "text/markdown": [
              "**Se NÃO leva Cerveja, NÃO leva Pao, leva Feijao, NÃO leva Manteiga, então NÃO leva Leite, NÃO leva Cafe**  \n",
              "• Suporte: `0.20` — presente em 20.0% das transações.  \n",
              "• Confiança: `1.00` — quando não leva cerveja, não leva pao, leva feijao, não leva manteiga, isso ocorre em 100.0% dos casos.  \n"
            ],
            "text/plain": [
              "<IPython.core.display.Markdown object>"
            ]
          },
          "metadata": {},
          "output_type": "display_data"
        },
        {
          "name": "stdout",
          "output_type": "stream",
          "text": [
            "------------------------------------------------------------\n"
          ]
        },
        {
          "data": {
            "text/markdown": [
              "**Se NÃO leva Pao, leva Feijao, NÃO leva Manteiga, então NÃO leva Cerveja, NÃO leva Leite, NÃO leva Cafe**  \n",
              "• Suporte: `0.20` — presente em 20.0% das transações.  \n",
              "• Confiança: `1.00` — quando não leva pao, leva feijao, não leva manteiga, isso ocorre em 100.0% dos casos.  \n"
            ],
            "text/plain": [
              "<IPython.core.display.Markdown object>"
            ]
          },
          "metadata": {},
          "output_type": "display_data"
        },
        {
          "name": "stdout",
          "output_type": "stream",
          "text": [
            "------------------------------------------------------------\n"
          ]
        }
      ],
      "source": [
        "from IPython.display import display, Markdown\n",
        "\n",
        "def interpretar_regra(antecedents, consequents, support, confidence):\n",
        "    lhs = ', '.join([item.replace('~', 'NÃO leva ') if '~' in item else f'leva {item}' for item in antecedents])\n",
        "    rhs = ', '.join([item.replace('~', 'NÃO leva ') if '~' in item else f'leva {item}' for item in consequents])\n",
        "    texto = f\"**Se {lhs}, então {rhs}**  \\n\"\n",
        "    texto += f\"• Suporte: `{support:.2f}` — presente em {support*100:.1f}% das transações.  \\n\"\n",
        "    texto += f\"• Confiança: `{confidence:.2f}` — quando {lhs.lower()}, isso ocorre em {confidence*100:.1f}% dos casos.  \\n\"\n",
        "    return texto\n",
        "\n",
        "# Filtra regras com ausência no antecedente\n",
        "regras_negativas = rules[rules['antecedents'].apply(lambda x: any('~' in i for i in x))]\n",
        "\n",
        "# Mostra as 10 regras mais confiáveis\n",
        "top_regras = regras_negativas.sort_values(by='confidence', ascending=False).head(10)\n",
        "\n",
        "for _, row in top_regras.iterrows():\n",
        "    explicacao = interpretar_regra(row['antecedents'], row['consequents'], row['support'], row['confidence'])\n",
        "    display(Markdown(explicacao))\n",
        "    print(\"-\" * 60)\n"
      ]
    }
  ],
  "metadata": {
    "colab": {
      "provenance": []
    },
    "kernelspec": {
      "display_name": "meu_ambiente",
      "language": "python",
      "name": "python3"
    },
    "language_info": {
      "codemirror_mode": {
        "name": "ipython",
        "version": 3
      },
      "file_extension": ".py",
      "mimetype": "text/x-python",
      "name": "python",
      "nbconvert_exporter": "python",
      "pygments_lexer": "ipython3",
      "version": "3.13.2"
    }
  },
  "nbformat": 4,
  "nbformat_minor": 0
}
