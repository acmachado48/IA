{
  "cells": [
    {
      "cell_type": "markdown",
      "metadata": {
        "id": "qm5lmIq9Xe-a"
      },
      "source": [
        "**Regras de associação**\n",
        "\n",
        "**Algoritmo Apriori**\n",
        "\n",
        "**Veja: https://www.youtube.com/watch?v=0v6PiOpsJi8**"
      ]
    },
    {
      "cell_type": "code",
      "execution_count": 11,
      "metadata": {
        "colab": {
          "base_uri": "https://localhost:8080/"
        },
        "id": "2bZM-_AsBVca",
        "outputId": "eb562175-4c00-425a-8bcc-91b37581f866"
      },
      "outputs": [
        {
          "name": "stdout",
          "output_type": "stream",
          "text": [
            "Requirement already satisfied: apyori in /Users/anacarolinamachado/iA/meu_ambiente/lib/python3.13/site-packages (1.1.2)\n"
          ]
        }
      ],
      "source": [
        "!pip install apyori"
      ]
    },
    {
      "cell_type": "code",
      "execution_count": null,
      "metadata": {
        "id": "m3d_ivF4Bcn5"
      },
      "outputs": [],
      "source": [
        "import pandas as pd\n",
        "from apyori import apriori\n"
      ]
    },
    {
      "cell_type": "code",
      "execution_count": 3,
      "metadata": {
        "colab": {
          "base_uri": "https://localhost:8080/",
          "height": 268
        },
        "id": "fGx34zCzBkw1",
        "outputId": "374599c5-d21a-4db9-d0f3-b459a86a910a"
      },
      "outputs": [
        {
          "data": {
            "text/html": [
              "<div>\n",
              "<style scoped>\n",
              "    .dataframe tbody tr th:only-of-type {\n",
              "        vertical-align: middle;\n",
              "    }\n",
              "\n",
              "    .dataframe tbody tr th {\n",
              "        vertical-align: top;\n",
              "    }\n",
              "\n",
              "    .dataframe thead th {\n",
              "        text-align: right;\n",
              "    }\n",
              "</style>\n",
              "<table border=\"1\" class=\"dataframe\">\n",
              "  <thead>\n",
              "    <tr style=\"text-align: right;\">\n",
              "      <th></th>\n",
              "      <th>0</th>\n",
              "      <th>1</th>\n",
              "      <th>2</th>\n",
              "      <th>3</th>\n",
              "      <th>4</th>\n",
              "      <th>5</th>\n",
              "      <th>6</th>\n",
              "    </tr>\n",
              "  </thead>\n",
              "  <tbody>\n",
              "    <tr>\n",
              "      <th>0</th>\n",
              "      <td>NaN</td>\n",
              "      <td>Cafe</td>\n",
              "      <td>NaN</td>\n",
              "      <td>Pao</td>\n",
              "      <td>Manteiga</td>\n",
              "      <td>NaN</td>\n",
              "      <td>NaN</td>\n",
              "    </tr>\n",
              "    <tr>\n",
              "      <th>1</th>\n",
              "      <td>Leite</td>\n",
              "      <td>NaN</td>\n",
              "      <td>Cerveja</td>\n",
              "      <td>Pao</td>\n",
              "      <td>Manteiga</td>\n",
              "      <td>NaN</td>\n",
              "      <td>NaN</td>\n",
              "    </tr>\n",
              "    <tr>\n",
              "      <th>2</th>\n",
              "      <td>NaN</td>\n",
              "      <td>Cafe</td>\n",
              "      <td>NaN</td>\n",
              "      <td>Pao</td>\n",
              "      <td>Manteiga</td>\n",
              "      <td>NaN</td>\n",
              "      <td>NaN</td>\n",
              "    </tr>\n",
              "    <tr>\n",
              "      <th>3</th>\n",
              "      <td>Leite</td>\n",
              "      <td>Cafe</td>\n",
              "      <td>NaN</td>\n",
              "      <td>Pao</td>\n",
              "      <td>Manteiga</td>\n",
              "      <td>NaN</td>\n",
              "      <td>NaN</td>\n",
              "    </tr>\n",
              "    <tr>\n",
              "      <th>4</th>\n",
              "      <td>NaN</td>\n",
              "      <td>NaN</td>\n",
              "      <td>Cerveja</td>\n",
              "      <td>NaN</td>\n",
              "      <td>NaN</td>\n",
              "      <td>NaN</td>\n",
              "      <td>NaN</td>\n",
              "    </tr>\n",
              "    <tr>\n",
              "      <th>5</th>\n",
              "      <td>NaN</td>\n",
              "      <td>NaN</td>\n",
              "      <td>NaN</td>\n",
              "      <td>NaN</td>\n",
              "      <td>Manteiga</td>\n",
              "      <td>NaN</td>\n",
              "      <td>NaN</td>\n",
              "    </tr>\n",
              "    <tr>\n",
              "      <th>6</th>\n",
              "      <td>NaN</td>\n",
              "      <td>NaN</td>\n",
              "      <td>NaN</td>\n",
              "      <td>Pao</td>\n",
              "      <td>NaN</td>\n",
              "      <td>NaN</td>\n",
              "      <td>NaN</td>\n",
              "    </tr>\n",
              "    <tr>\n",
              "      <th>7</th>\n",
              "      <td>NaN</td>\n",
              "      <td>NaN</td>\n",
              "      <td>NaN</td>\n",
              "      <td>NaN</td>\n",
              "      <td>NaN</td>\n",
              "      <td>NaN</td>\n",
              "      <td>Feijao</td>\n",
              "    </tr>\n",
              "    <tr>\n",
              "      <th>8</th>\n",
              "      <td>NaN</td>\n",
              "      <td>NaN</td>\n",
              "      <td>NaN</td>\n",
              "      <td>NaN</td>\n",
              "      <td>NaN</td>\n",
              "      <td>Arroz</td>\n",
              "      <td>Feijao</td>\n",
              "    </tr>\n",
              "    <tr>\n",
              "      <th>9</th>\n",
              "      <td>NaN</td>\n",
              "      <td>NaN</td>\n",
              "      <td>NaN</td>\n",
              "      <td>NaN</td>\n",
              "      <td>NaN</td>\n",
              "      <td>Arroz</td>\n",
              "      <td>NaN</td>\n",
              "    </tr>\n",
              "  </tbody>\n",
              "</table>\n",
              "</div>"
            ],
            "text/plain": [
              "       0     1        2    3         4      5       6\n",
              "0    NaN  Cafe      NaN  Pao  Manteiga    NaN     NaN\n",
              "1  Leite   NaN  Cerveja  Pao  Manteiga    NaN     NaN\n",
              "2    NaN  Cafe      NaN  Pao  Manteiga    NaN     NaN\n",
              "3  Leite  Cafe      NaN  Pao  Manteiga    NaN     NaN\n",
              "4    NaN   NaN  Cerveja  NaN       NaN    NaN     NaN\n",
              "5    NaN   NaN      NaN  NaN  Manteiga    NaN     NaN\n",
              "6    NaN   NaN      NaN  Pao       NaN    NaN     NaN\n",
              "7    NaN   NaN      NaN  NaN       NaN    NaN  Feijao\n",
              "8    NaN   NaN      NaN  NaN       NaN  Arroz  Feijao\n",
              "9    NaN   NaN      NaN  NaN       NaN  Arroz     NaN"
            ]
          },
          "execution_count": 3,
          "metadata": {},
          "output_type": "execute_result"
        }
      ],
      "source": [
        "#encoding = \"cp1252\", encoding='utf-8', encoding='latin1'etc\n",
        "base= pd.read_csv('MercadoSim.csv', sep=';',encoding='cp1252', header=None)\n",
        "base"
      ]
    },
    {
      "cell_type": "code",
      "execution_count": 4,
      "metadata": {
        "colab": {
          "base_uri": "https://localhost:8080/"
        },
        "id": "oIBsczbGCxWf",
        "outputId": "ff04c1bb-934a-452d-9c98-3eaa99c09af7"
      },
      "outputs": [
        {
          "data": {
            "text/plain": [
              "(10, 7)"
            ]
          },
          "execution_count": 4,
          "metadata": {},
          "output_type": "execute_result"
        }
      ],
      "source": [
        "base.shape"
      ]
    },
    {
      "cell_type": "markdown",
      "metadata": {
        "id": "cQyNolxV37tx"
      },
      "source": [
        "**Como estaremos treinando um modelo a priori, que recebe entradas em formato de lista, precisamos transformar o dataframe em uma lista de transações.**"
      ]
    },
    {
      "cell_type": "code",
      "execution_count": 6,
      "metadata": {
        "id": "ZF8i0EdWCMjY"
      },
      "outputs": [],
      "source": [
        "transacoes = []\n",
        "for i in range(len(base)):\n",
        "  #print(i)\n",
        "  #print(base_mercado1.values[i, 0])\n",
        "  transacoes.append([str(base.values[i, j]) for j in range(base.shape[1])])"
      ]
    },
    {
      "cell_type": "code",
      "execution_count": 16,
      "metadata": {
        "colab": {
          "base_uri": "https://localhost:8080/"
        },
        "id": "XH2CNc6VC3e3",
        "outputId": "eac451b7-7c6b-4cdc-9926-caf1468ad8fe"
      },
      "outputs": [],
      "source": [
        "transacoes\n",
        "transacoes = []\n",
        "for i in range(len(base)):\n",
        "    transacoes.append([str(base.values[i, j]) for j in range(base.shape[1]) if pd.notna(base.values[i, j])])\n"
      ]
    },
    {
      "cell_type": "code",
      "execution_count": 8,
      "metadata": {
        "colab": {
          "base_uri": "https://localhost:8080/"
        },
        "id": "jF4Ec_ryDNfw",
        "outputId": "c23f148b-86d9-4115-f247-0c23d218ef31"
      },
      "outputs": [
        {
          "data": {
            "text/plain": [
              "list"
            ]
          },
          "execution_count": 8,
          "metadata": {},
          "output_type": "execute_result"
        }
      ],
      "source": [
        "type(transacoes)"
      ]
    },
    {
      "cell_type": "markdown",
      "metadata": {
        "id": "ggzA0uJg_3Ns"
      },
      "source": [
        "**Vamos chamar executar o algoritmo apriori e armazenar as regras obtidas**"
      ]
    },
    {
      "cell_type": "code",
      "execution_count": 17,
      "metadata": {
        "colab": {
          "base_uri": "https://localhost:8080/"
        },
        "id": "DuX5YuabzqfQ",
        "outputId": "a1b2c83c-b59a-4d8a-f571-497332f55288"
      },
      "outputs": [
        {
          "name": "stdout",
          "output_type": "stream",
          "text": [
            "4\n",
            "Regra: ['Cafe'] -> ['Manteiga'] | suporte: 0.30 | confiança: 1.00 | lift: 2.00\n",
            "Regra: ['Cafe'] -> ['Pao'] | suporte: 0.30 | confiança: 1.00 | lift: 2.00\n",
            "Regra: ['Manteiga'] -> ['Pao'] | suporte: 0.40 | confiança: 0.80 | lift: 1.60\n",
            "Regra: ['Pao'] -> ['Manteiga'] | suporte: 0.40 | confiança: 0.80 | lift: 1.60\n",
            "Regra: ['Cafe'] -> ['Manteiga', 'Pao'] | suporte: 0.30 | confiança: 1.00 | lift: 2.50\n",
            "Regra: ['Cafe', 'Manteiga'] -> ['Pao'] | suporte: 0.30 | confiança: 1.00 | lift: 2.00\n",
            "Regra: ['Cafe', 'Pao'] -> ['Manteiga'] | suporte: 0.30 | confiança: 1.00 | lift: 2.00\n"
          ]
        }
      ],
      "source": [
        "regras = apriori(transacoes, min_support = 0.3, min_confidence = 0.8)\n",
        "\n",
        "saida = list(regras)\n",
        "\n",
        "# imprime total e regras\n",
        "print(len(saida))\n",
        "for regra in saida:\n",
        "    for stat in regra.ordered_statistics:\n",
        "        print(f\"Regra: {list(stat.items_base)} -> {list(stat.items_add)} | suporte: {regra.support:.2f} | confiança: {stat.confidence:.2f} | lift: {stat.lift:.2f}\")"
      ]
    },
    {
      "cell_type": "code",
      "execution_count": 11,
      "metadata": {
        "colab": {
          "base_uri": "https://localhost:8080/"
        },
        "id": "l4vMQUJfHu0e",
        "outputId": "5f387517-3c8d-4e0c-c437-2cef2a919b59"
      },
      "outputs": [
        {
          "name": "stdout",
          "output_type": "stream",
          "text": [
            "RelationRecord(items=frozenset({'nan'}), support=1.0, ordered_statistics=[OrderedStatistic(items_base=frozenset(), items_add=frozenset({'nan'}), confidence=1.0, lift=1.0)])\n"
          ]
        }
      ],
      "source": [
        "print(saida[0])"
      ]
    },
    {
      "cell_type": "code",
      "execution_count": null,
      "metadata": {
        "id": "3Z90YDOaXluf"
      },
      "outputs": [],
      "source": []
    },
    {
      "cell_type": "code",
      "execution_count": 12,
      "metadata": {
        "colab": {
          "base_uri": "https://localhost:8080/"
        },
        "id": "M0hNno4uPcs9",
        "outputId": "b021d176-1cd6-491e-cebb-26d276b77b2a"
      },
      "outputs": [
        {
          "name": "stdout",
          "output_type": "stream",
          "text": [
            "RelationRecord(items=frozenset({'Manteiga', 'Cafe'}), support=0.3, ordered_statistics=[OrderedStatistic(items_base=frozenset({'Cafe'}), items_add=frozenset({'Manteiga'}), confidence=1.0, lift=2.0)])\n"
          ]
        }
      ],
      "source": [
        "print(saida[1])"
      ]
    },
    {
      "cell_type": "code",
      "execution_count": 13,
      "metadata": {
        "colab": {
          "base_uri": "https://localhost:8080/"
        },
        "id": "0ZMoSVL_9aXP",
        "outputId": "5d41583b-c3a9-4910-883a-d2fae74a47dd"
      },
      "outputs": [
        {
          "name": "stdout",
          "output_type": "stream",
          "text": [
            "RelationRecord(items=frozenset({'Pao', 'Cafe'}), support=0.3, ordered_statistics=[OrderedStatistic(items_base=frozenset({'Cafe'}), items_add=frozenset({'Pao'}), confidence=1.0, lift=2.0)])\n"
          ]
        }
      ],
      "source": [
        "print(saida[2])"
      ]
    },
    {
      "cell_type": "markdown",
      "metadata": {
        "id": "soknidg94a2y"
      },
      "source": [
        "**Para facilitar a visualização, veja como transformar isso em um dataframe**\n",
        "\n",
        "Extraído de:\n",
        "\n",
        "https://www.section.io/engineering-education/apriori-algorithm-in-python/\n",
        "\n",
        "https://splunktool.com/understanding-apyoris-output"
      ]
    },
    {
      "cell_type": "code",
      "execution_count": 14,
      "metadata": {
        "id": "UWDno2uo4aL0"
      },
      "outputs": [],
      "source": [
        "Antecedente = []\n",
        "Consequente = []\n",
        "suporte = []\n",
        "confianca = []\n",
        "lift = []\n",
        "RegrasFinais = []\n",
        "\n",
        "for resultado in saida:\n",
        "  s = resultado[1]\n",
        "  result_rules = resultado[2]\n",
        "  for result_rule in result_rules:\n",
        "    a = list(result_rule[0])\n",
        "    b = list(result_rule[1])\n",
        "    c = result_rule[2]\n",
        "    l = result_rule[3]\n",
        "    if 'nan' in a or 'nan' in b: continue\n",
        "    if len(a) == 0 or len(b) == 0: continue\n",
        "    Antecedente.append(a)\n",
        "    Consequente.append(b)\n",
        "    suporte.append(s)\n",
        "    confianca.append(c)\n",
        "    lift.append(l)\n",
        "    RegrasFinais = pd.DataFrame({'Antecedente': Antecedente, 'Consequente': Consequente, 'suporte': suporte, 'confianca': confianca, 'lift': lift})"
      ]
    },
    {
      "cell_type": "code",
      "execution_count": 15,
      "metadata": {
        "colab": {
          "base_uri": "https://localhost:8080/",
          "height": 174
        },
        "id": "QW7wcZbe431-",
        "outputId": "fac9d89c-bc03-4f0b-c917-305b13319ada"
      },
      "outputs": [
        {
          "data": {
            "text/html": [
              "<div>\n",
              "<style scoped>\n",
              "    .dataframe tbody tr th:only-of-type {\n",
              "        vertical-align: middle;\n",
              "    }\n",
              "\n",
              "    .dataframe tbody tr th {\n",
              "        vertical-align: top;\n",
              "    }\n",
              "\n",
              "    .dataframe thead th {\n",
              "        text-align: right;\n",
              "    }\n",
              "</style>\n",
              "<table border=\"1\" class=\"dataframe\">\n",
              "  <thead>\n",
              "    <tr style=\"text-align: right;\">\n",
              "      <th></th>\n",
              "      <th>Antecedente</th>\n",
              "      <th>Consequente</th>\n",
              "      <th>suporte</th>\n",
              "      <th>confianca</th>\n",
              "      <th>lift</th>\n",
              "    </tr>\n",
              "  </thead>\n",
              "  <tbody>\n",
              "    <tr>\n",
              "      <th>0</th>\n",
              "      <td>[Cafe]</td>\n",
              "      <td>[Manteiga]</td>\n",
              "      <td>0.3</td>\n",
              "      <td>1.0</td>\n",
              "      <td>2.0</td>\n",
              "    </tr>\n",
              "    <tr>\n",
              "      <th>1</th>\n",
              "      <td>[Cafe]</td>\n",
              "      <td>[Pao]</td>\n",
              "      <td>0.3</td>\n",
              "      <td>1.0</td>\n",
              "      <td>2.0</td>\n",
              "    </tr>\n",
              "    <tr>\n",
              "      <th>2</th>\n",
              "      <td>[Manteiga]</td>\n",
              "      <td>[Pao]</td>\n",
              "      <td>0.4</td>\n",
              "      <td>0.8</td>\n",
              "      <td>1.6</td>\n",
              "    </tr>\n",
              "    <tr>\n",
              "      <th>3</th>\n",
              "      <td>[Pao]</td>\n",
              "      <td>[Manteiga]</td>\n",
              "      <td>0.4</td>\n",
              "      <td>0.8</td>\n",
              "      <td>1.6</td>\n",
              "    </tr>\n",
              "    <tr>\n",
              "      <th>4</th>\n",
              "      <td>[Cafe]</td>\n",
              "      <td>[Manteiga, Pao]</td>\n",
              "      <td>0.3</td>\n",
              "      <td>1.0</td>\n",
              "      <td>2.5</td>\n",
              "    </tr>\n",
              "    <tr>\n",
              "      <th>5</th>\n",
              "      <td>[Manteiga, Cafe]</td>\n",
              "      <td>[Pao]</td>\n",
              "      <td>0.3</td>\n",
              "      <td>1.0</td>\n",
              "      <td>2.0</td>\n",
              "    </tr>\n",
              "    <tr>\n",
              "      <th>6</th>\n",
              "      <td>[Pao, Cafe]</td>\n",
              "      <td>[Manteiga]</td>\n",
              "      <td>0.3</td>\n",
              "      <td>1.0</td>\n",
              "      <td>2.0</td>\n",
              "    </tr>\n",
              "  </tbody>\n",
              "</table>\n",
              "</div>"
            ],
            "text/plain": [
              "        Antecedente      Consequente  suporte  confianca  lift\n",
              "0            [Cafe]       [Manteiga]      0.3        1.0   2.0\n",
              "1            [Cafe]            [Pao]      0.3        1.0   2.0\n",
              "2        [Manteiga]            [Pao]      0.4        0.8   1.6\n",
              "3             [Pao]       [Manteiga]      0.4        0.8   1.6\n",
              "4            [Cafe]  [Manteiga, Pao]      0.3        1.0   2.5\n",
              "5  [Manteiga, Cafe]            [Pao]      0.3        1.0   2.0\n",
              "6       [Pao, Cafe]       [Manteiga]      0.3        1.0   2.0"
            ]
          },
          "execution_count": 15,
          "metadata": {},
          "output_type": "execute_result"
        }
      ],
      "source": [
        "RegrasFinais"
      ]
    },
    {
      "cell_type": "markdown",
      "metadata": {
        "id": "DJUXykHjhbJ0"
      },
      "source": [
        "**Podemos ordenar estas regras por uma métrica desejada**"
      ]
    },
    {
      "cell_type": "code",
      "execution_count": 16,
      "metadata": {
        "colab": {
          "base_uri": "https://localhost:8080/",
          "height": 174
        },
        "id": "A7X_YwVHhaxf",
        "outputId": "adb0c396-edfc-4d96-a9c7-5329b3bcb787"
      },
      "outputs": [
        {
          "data": {
            "text/html": [
              "<div>\n",
              "<style scoped>\n",
              "    .dataframe tbody tr th:only-of-type {\n",
              "        vertical-align: middle;\n",
              "    }\n",
              "\n",
              "    .dataframe tbody tr th {\n",
              "        vertical-align: top;\n",
              "    }\n",
              "\n",
              "    .dataframe thead th {\n",
              "        text-align: right;\n",
              "    }\n",
              "</style>\n",
              "<table border=\"1\" class=\"dataframe\">\n",
              "  <thead>\n",
              "    <tr style=\"text-align: right;\">\n",
              "      <th></th>\n",
              "      <th>Antecedente</th>\n",
              "      <th>Consequente</th>\n",
              "      <th>suporte</th>\n",
              "      <th>confianca</th>\n",
              "      <th>lift</th>\n",
              "    </tr>\n",
              "  </thead>\n",
              "  <tbody>\n",
              "    <tr>\n",
              "      <th>4</th>\n",
              "      <td>[Cafe]</td>\n",
              "      <td>[Manteiga, Pao]</td>\n",
              "      <td>0.3</td>\n",
              "      <td>1.0</td>\n",
              "      <td>2.5</td>\n",
              "    </tr>\n",
              "    <tr>\n",
              "      <th>0</th>\n",
              "      <td>[Cafe]</td>\n",
              "      <td>[Manteiga]</td>\n",
              "      <td>0.3</td>\n",
              "      <td>1.0</td>\n",
              "      <td>2.0</td>\n",
              "    </tr>\n",
              "    <tr>\n",
              "      <th>1</th>\n",
              "      <td>[Cafe]</td>\n",
              "      <td>[Pao]</td>\n",
              "      <td>0.3</td>\n",
              "      <td>1.0</td>\n",
              "      <td>2.0</td>\n",
              "    </tr>\n",
              "    <tr>\n",
              "      <th>5</th>\n",
              "      <td>[Manteiga, Cafe]</td>\n",
              "      <td>[Pao]</td>\n",
              "      <td>0.3</td>\n",
              "      <td>1.0</td>\n",
              "      <td>2.0</td>\n",
              "    </tr>\n",
              "    <tr>\n",
              "      <th>6</th>\n",
              "      <td>[Pao, Cafe]</td>\n",
              "      <td>[Manteiga]</td>\n",
              "      <td>0.3</td>\n",
              "      <td>1.0</td>\n",
              "      <td>2.0</td>\n",
              "    </tr>\n",
              "    <tr>\n",
              "      <th>2</th>\n",
              "      <td>[Manteiga]</td>\n",
              "      <td>[Pao]</td>\n",
              "      <td>0.4</td>\n",
              "      <td>0.8</td>\n",
              "      <td>1.6</td>\n",
              "    </tr>\n",
              "    <tr>\n",
              "      <th>3</th>\n",
              "      <td>[Pao]</td>\n",
              "      <td>[Manteiga]</td>\n",
              "      <td>0.4</td>\n",
              "      <td>0.8</td>\n",
              "      <td>1.6</td>\n",
              "    </tr>\n",
              "  </tbody>\n",
              "</table>\n",
              "</div>"
            ],
            "text/plain": [
              "        Antecedente      Consequente  suporte  confianca  lift\n",
              "4            [Cafe]  [Manteiga, Pao]      0.3        1.0   2.5\n",
              "0            [Cafe]       [Manteiga]      0.3        1.0   2.0\n",
              "1            [Cafe]            [Pao]      0.3        1.0   2.0\n",
              "5  [Manteiga, Cafe]            [Pao]      0.3        1.0   2.0\n",
              "6       [Pao, Cafe]       [Manteiga]      0.3        1.0   2.0\n",
              "2        [Manteiga]            [Pao]      0.4        0.8   1.6\n",
              "3             [Pao]       [Manteiga]      0.4        0.8   1.6"
            ]
          },
          "execution_count": 16,
          "metadata": {},
          "output_type": "execute_result"
        }
      ],
      "source": [
        "RegrasFinais.sort_values(by='lift', ascending =False)"
      ]
    }
  ],
  "metadata": {
    "colab": {
      "provenance": []
    },
    "kernelspec": {
      "display_name": "meu_ambiente",
      "language": "python",
      "name": "python3"
    },
    "language_info": {
      "codemirror_mode": {
        "name": "ipython",
        "version": 3
      },
      "file_extension": ".py",
      "mimetype": "text/x-python",
      "name": "python",
      "nbconvert_exporter": "python",
      "pygments_lexer": "ipython3",
      "version": "3.13.2"
    }
  },
  "nbformat": 4,
  "nbformat_minor": 0
}
